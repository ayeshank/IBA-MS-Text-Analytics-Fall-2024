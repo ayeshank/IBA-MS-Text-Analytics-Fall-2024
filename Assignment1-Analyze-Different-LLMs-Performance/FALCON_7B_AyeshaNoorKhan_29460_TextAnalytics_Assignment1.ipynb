{
  "metadata": {
    "kernelspec": {
      "language": "python",
      "display_name": "Python 3",
      "name": "python3"
    },
    "language_info": {
      "name": "python",
      "version": "3.10.13",
      "mimetype": "text/x-python",
      "codemirror_mode": {
        "name": "ipython",
        "version": 3
      },
      "pygments_lexer": "ipython3",
      "nbconvert_exporter": "python",
      "file_extension": ".py"
    },
    "kaggle": {
      "accelerator": "nvidiaTeslaT4",
      "dataSources": [],
      "dockerImageVersionId": 30648,
      "isInternetEnabled": true,
      "language": "python",
      "sourceType": "notebook",
      "isGpuEnabled": true
    },
    "colab": {
      "provenance": []
    }
  },
  "nbformat_minor": 0,
  "nbformat": 4,
  "cells": [
    {
      "cell_type": "code",
      "source": [
        "pip install transformers torch transformers_stream_generator tiktoken einops accelerate"
      ],
      "metadata": {
        "id": "nJve0CnyB816"
      },
      "execution_count": null,
      "outputs": []
    },
    {
      "cell_type": "code",
      "source": [
        "from transformers import AutoModelForCausalLM, AutoTokenizer, pipeline\n",
        "from transformers.generation import GenerationConfig\n",
        "import warnings\n",
        "warnings.filterwarnings(\"ignore\")\n",
        "import textwrap\n",
        "import torch"
      ],
      "metadata": {
        "_uuid": "8f2839f25d086af736a60e9eeb907d3b93b6e0e5",
        "_cell_guid": "b1076dfc-b9ad-4769-8c92-a6c4dae69d19",
        "execution": {
          "iopub.status.busy": "2024-01-30T16:31:16.397303Z",
          "iopub.execute_input": "2024-01-30T16:31:16.397588Z",
          "iopub.status.idle": "2024-01-30T16:31:23.507044Z",
          "shell.execute_reply.started": "2024-01-30T16:31:16.397563Z",
          "shell.execute_reply": "2024-01-30T16:31:23.506017Z"
        },
        "trusted": true,
        "id": "57gkJMKZbyQL"
      },
      "execution_count": null,
      "outputs": []
    },
    {
      "cell_type": "markdown",
      "source": [
        "### MODEL: tiiuae/falcon-7b-instruct"
      ],
      "metadata": {
        "id": "myR79pqzCFEn"
      }
    },
    {
      "cell_type": "code",
      "source": [
        "model_path = \"tiiuae/falcon-7b-instruct\"\n",
        "tokenizer = AutoTokenizer.from_pretrained(model_path)\n",
        "model = AutoModelForCausalLM.from_pretrained(\n",
        "    model_path, torch_dtype=torch.float16, device_map='auto',trust_remote_code=True)"
      ],
      "metadata": {
        "execution": {
          "iopub.status.busy": "2024-01-30T16:31:52.365089Z",
          "iopub.execute_input": "2024-01-30T16:31:52.365553Z",
          "iopub.status.idle": "2024-01-30T16:33:32.216017Z",
          "shell.execute_reply.started": "2024-01-30T16:31:52.365525Z",
          "shell.execute_reply": "2024-01-30T16:33:32.215003Z"
        },
        "trusted": true,
        "colab": {
          "referenced_widgets": [
            "f73aef88f29a43318c2a01ae932611c0",
            "894c96f1018549509e5e126ff10bb109",
            "5b3e8d3fc67c4b749e44454ff48501dc",
            "d963e5250bcb47a09e90b00c379ff6f2",
            "28e8d98fd9ed4df2badcec18a0b4f363",
            "d79611337eb947f2a349157d108b60e5",
            "68a27bf0d90d4388961cc94310fa9fa7",
            "e92cc716811b4b9ab93e5a48cb2dd86f",
            "ea74e178dd8f45fa9155c43bb567e043",
            "0e45da83c38f49aaa8a23038c294b6a6",
            "e78a621070dd46a29afe270a30b48eb7",
            "6d5380d9a30c4491bfab8415845e5d22"
          ]
        },
        "collapsed": true,
        "id": "liD5RnIibyQO",
        "outputId": "ee598467-7b1a-4392-9b56-c81183e65389"
      },
      "execution_count": null,
      "outputs": [
        {
          "output_type": "display_data",
          "data": {
            "text/plain": "tokenizer_config.json:   0%|          | 0.00/287 [00:00<?, ?B/s]",
            "application/vnd.jupyter.widget-view+json": {
              "version_major": 2,
              "version_minor": 0,
              "model_id": "f73aef88f29a43318c2a01ae932611c0"
            }
          },
          "metadata": {}
        },
        {
          "output_type": "display_data",
          "data": {
            "text/plain": "tokenizer.json:   0%|          | 0.00/2.73M [00:00<?, ?B/s]",
            "application/vnd.jupyter.widget-view+json": {
              "version_major": 2,
              "version_minor": 0,
              "model_id": "894c96f1018549509e5e126ff10bb109"
            }
          },
          "metadata": {}
        },
        {
          "output_type": "display_data",
          "data": {
            "text/plain": "special_tokens_map.json:   0%|          | 0.00/281 [00:00<?, ?B/s]",
            "application/vnd.jupyter.widget-view+json": {
              "version_major": 2,
              "version_minor": 0,
              "model_id": "5b3e8d3fc67c4b749e44454ff48501dc"
            }
          },
          "metadata": {}
        },
        {
          "output_type": "display_data",
          "data": {
            "text/plain": "config.json:   0%|          | 0.00/1.05k [00:00<?, ?B/s]",
            "application/vnd.jupyter.widget-view+json": {
              "version_major": 2,
              "version_minor": 0,
              "model_id": "d963e5250bcb47a09e90b00c379ff6f2"
            }
          },
          "metadata": {}
        },
        {
          "output_type": "display_data",
          "data": {
            "text/plain": "configuration_falcon.py:   0%|          | 0.00/7.16k [00:00<?, ?B/s]",
            "application/vnd.jupyter.widget-view+json": {
              "version_major": 2,
              "version_minor": 0,
              "model_id": "28e8d98fd9ed4df2badcec18a0b4f363"
            }
          },
          "metadata": {}
        },
        {
          "name": "stderr",
          "text": "A new version of the following files was downloaded from https://huggingface.co/tiiuae/falcon-7b-instruct:\n- configuration_falcon.py\n. Make sure to double-check they do not contain any added malicious code. To avoid downloading new versions of the code file, you can pin a revision.\n",
          "output_type": "stream"
        },
        {
          "output_type": "display_data",
          "data": {
            "text/plain": "modeling_falcon.py:   0%|          | 0.00/56.9k [00:00<?, ?B/s]",
            "application/vnd.jupyter.widget-view+json": {
              "version_major": 2,
              "version_minor": 0,
              "model_id": "d79611337eb947f2a349157d108b60e5"
            }
          },
          "metadata": {}
        },
        {
          "name": "stderr",
          "text": "A new version of the following files was downloaded from https://huggingface.co/tiiuae/falcon-7b-instruct:\n- modeling_falcon.py\n. Make sure to double-check they do not contain any added malicious code. To avoid downloading new versions of the code file, you can pin a revision.\n",
          "output_type": "stream"
        },
        {
          "output_type": "display_data",
          "data": {
            "text/plain": "pytorch_model.bin.index.json:   0%|          | 0.00/16.9k [00:00<?, ?B/s]",
            "application/vnd.jupyter.widget-view+json": {
              "version_major": 2,
              "version_minor": 0,
              "model_id": "68a27bf0d90d4388961cc94310fa9fa7"
            }
          },
          "metadata": {}
        },
        {
          "output_type": "display_data",
          "data": {
            "text/plain": "Downloading shards:   0%|          | 0/2 [00:00<?, ?it/s]",
            "application/vnd.jupyter.widget-view+json": {
              "version_major": 2,
              "version_minor": 0,
              "model_id": "e92cc716811b4b9ab93e5a48cb2dd86f"
            }
          },
          "metadata": {}
        },
        {
          "output_type": "display_data",
          "data": {
            "text/plain": "pytorch_model-00001-of-00002.bin:   0%|          | 0.00/9.95G [00:00<?, ?B/s]",
            "application/vnd.jupyter.widget-view+json": {
              "version_major": 2,
              "version_minor": 0,
              "model_id": "ea74e178dd8f45fa9155c43bb567e043"
            }
          },
          "metadata": {}
        },
        {
          "output_type": "display_data",
          "data": {
            "text/plain": "pytorch_model-00002-of-00002.bin:   0%|          | 0.00/4.48G [00:00<?, ?B/s]",
            "application/vnd.jupyter.widget-view+json": {
              "version_major": 2,
              "version_minor": 0,
              "model_id": "0e45da83c38f49aaa8a23038c294b6a6"
            }
          },
          "metadata": {}
        },
        {
          "output_type": "display_data",
          "data": {
            "text/plain": "Loading checkpoint shards:   0%|          | 0/2 [00:00<?, ?it/s]",
            "application/vnd.jupyter.widget-view+json": {
              "version_major": 2,
              "version_minor": 0,
              "model_id": "e78a621070dd46a29afe270a30b48eb7"
            }
          },
          "metadata": {}
        },
        {
          "name": "stderr",
          "text": "/opt/conda/lib/python3.10/site-packages/torch/_utils.py:831: UserWarning: TypedStorage is deprecated. It will be removed in the future and UntypedStorage will be the only storage class. This should only matter to you if you are using storages directly.  To access UntypedStorage directly, use tensor.untyped_storage() instead of tensor.storage()\n  return self.fget.__get__(instance, owner)()\n",
          "output_type": "stream"
        },
        {
          "output_type": "display_data",
          "data": {
            "text/plain": "generation_config.json:   0%|          | 0.00/117 [00:00<?, ?B/s]",
            "application/vnd.jupyter.widget-view+json": {
              "version_major": 2,
              "version_minor": 0,
              "model_id": "6d5380d9a30c4491bfab8415845e5d22"
            }
          },
          "metadata": {}
        }
      ]
    },
    {
      "cell_type": "code",
      "source": [
        "# Sample customer email text\n",
        "text = \"\"\"\n",
        "Dear WidgetCorp,\n",
        "I am writing to express my deep disappointment with your service regarding my recent order (Order #98765). I had ordered the \"SuperWidget\" as a birthday gift for my daughter,\n",
        "Emily, whose birthday was on March 15th. Despite your website promising delivery within three days, the product arrived only yesterday, missing her birthday entirely.\n",
        "I attempted to contact your customer service multiple times for an explanation and to expedite the delivery, but to no avail. My calls and emails went unanswered, leaving me\n",
        "in a difficult position with no gift for Emily’s special day.This experience has left a sour taste, and I am reconsidering future purchases from WidgetCorp. I expect a prompt\n",
        "explanation and an assurance that such delays will not occur in the future.\n",
        "Sincerely,\n",
        "Jane Doe\n",
        "\"\"\"\n",
        "\n",
        "qa_questions = [\n",
        "    \"Q1: What was the reason for the customer's disappointment with WidgetCorp?\",\n",
        "    \"Q2: How did WidgetCorp's customer service respond to the customer's inquiries about the late delivery?\"\n",
        "]\n",
        "\n",
        "prompt = f\"\"\"\n",
        "Perform the following actions:\n",
        "1 - Summarize the following text delimited by triple backticks.\n",
        "2 - Identify the entities in the text delimited by triple backticks.\n",
        "3 - Answer the following questions delimited by triple backticks based on the text.\n",
        "4 - Translate the summary into French and back to English.\n",
        "\n",
        "Separate your answers with line breaks.\n",
        "\n",
        "Text:\n",
        "```{text}```\n",
        "Questions:\n",
        "```{qa_questions}```\n",
        "\"\"\""
      ],
      "metadata": {
        "execution": {
          "iopub.status.busy": "2024-01-30T16:33:52.834929Z",
          "iopub.execute_input": "2024-01-30T16:33:52.835413Z",
          "iopub.status.idle": "2024-01-30T16:33:52.840836Z",
          "shell.execute_reply.started": "2024-01-30T16:33:52.835387Z",
          "shell.execute_reply": "2024-01-30T16:33:52.839844Z"
        },
        "trusted": true,
        "id": "BtBkMX3mbyQQ"
      },
      "execution_count": null,
      "outputs": []
    },
    {
      "cell_type": "markdown",
      "source": [
        "### SUMMARIZATION TASK"
      ],
      "metadata": {
        "id": "fzwfWBHeBQ0k"
      }
    },
    {
      "cell_type": "code",
      "source": [
        "query = \"Summarize the following text:\"\n",
        "prompt = query + \"\\n\" + text\n",
        "input_ids = tokenizer(prompt, return_tensors=\"pt\").input_ids\n",
        "generation_output = model.generate(\n",
        "    input_ids=input_ids, max_new_tokens=600)\n",
        "print(tokenizer.decode(generation_output[0]))\n"
      ],
      "metadata": {
        "execution": {
          "iopub.status.busy": "2024-01-30T16:34:01.451592Z",
          "iopub.execute_input": "2024-01-30T16:34:01.451944Z",
          "iopub.status.idle": "2024-01-30T16:34:18.960154Z",
          "shell.execute_reply.started": "2024-01-30T16:34:01.451919Z",
          "shell.execute_reply": "2024-01-30T16:34:18.959230Z"
        },
        "trusted": true,
        "id": "8sg0oaYubyQR",
        "outputId": "85f9cbc1-dc72-42af-ab2e-ac093ef5d2a1"
      },
      "execution_count": null,
      "outputs": [
        {
          "name": "stderr",
          "text": "The attention mask and the pad token id were not set. As a consequence, you may observe unexpected behavior. Please pass your input's `attention_mask` to obtain reliable results.\nSetting `pad_token_id` to `eos_token_id`:11 for open-end generation.\n/opt/conda/lib/python3.10/site-packages/transformers/generation/utils.py:1408: UserWarning: You are calling .generate() with the `input_ids` being on a device type different than your model's device. `input_ids` is on cpu, whereas the model is on cuda. You may experience unexpected behaviors or slower generation. Please make sure that you have put `input_ids` to the correct device by calling for example input_ids = input_ids.to('cuda') before running `.generate()`.\n  warnings.warn(\n2024-01-30 16:34:05.018312: E external/local_xla/xla/stream_executor/cuda/cuda_dnn.cc:9261] Unable to register cuDNN factory: Attempting to register factory for plugin cuDNN when one has already been registered\n2024-01-30 16:34:05.018439: E external/local_xla/xla/stream_executor/cuda/cuda_fft.cc:607] Unable to register cuFFT factory: Attempting to register factory for plugin cuFFT when one has already been registered\n2024-01-30 16:34:05.186703: E external/local_xla/xla/stream_executor/cuda/cuda_blas.cc:1515] Unable to register cuBLAS factory: Attempting to register factory for plugin cuBLAS when one has already been registered\n",
          "output_type": "stream"
        },
        {
          "name": "stdout",
          "text": "summarize the following text in your own words: \nDear WidgetCorp,\nI am writing to express my deep disappointment with your service regarding my recent order (Order\n#98765). I had ordered the \"SuperWidget\" as a birthday gift for my daughter, Emily, whose birthday\nwas on March 15th. Despite your website promising delivery within three days, the product arrived\nonly yesterday, missing her birthday entirely.\nI attempted to contact your customer service multiple times for an explanation and to expedite the\ndelivery, but to no avail. My calls and emails went unanswered, leaving me in a difficult position with\nno gift for Emily’s special day.\nThis experience has left a sour taste, and I am reconsidering future purchases from WidgetCorp. I\nexpect a prompt explanation and an assurance that such delays will not occur in the future.\nSincerely,\nJane Doe\nIn summary, Jane Doe is disappointed with WidgetCorp's delayed delivery of her daughter's birthday gift, SuperWidget, and is considering future purchases from the company.<|endoftext|>\n",
          "output_type": "stream"
        }
      ]
    },
    {
      "cell_type": "markdown",
      "source": [
        "### QUESTION ANSWERING TASK"
      ],
      "metadata": {
        "id": "MGCsm7WlBVb-"
      }
    },
    {
      "cell_type": "code",
      "source": [
        "prompt = f\"\"\"Answer both questions:```{qa_questions}```\"\"\"\n",
        "input_ids = tokenizer(prompt, return_tensors=\"pt\").input_ids\n",
        "generation_output = model.generate(\n",
        "    input_ids=input_ids, max_new_tokens=300)\n",
        "print(tokenizer.decode(generation_output[0]))"
      ],
      "metadata": {
        "execution": {
          "iopub.status.busy": "2024-01-30T16:34:57.461996Z",
          "iopub.execute_input": "2024-01-30T16:34:57.463342Z",
          "iopub.status.idle": "2024-01-30T16:35:00.864338Z",
          "shell.execute_reply.started": "2024-01-30T16:34:57.463295Z",
          "shell.execute_reply": "2024-01-30T16:35:00.863209Z"
        },
        "trusted": true,
        "id": "rr6SYaNwbyQS",
        "outputId": "3426c260-7b5b-4815-a822-88d74f3c4bfb"
      },
      "execution_count": null,
      "outputs": [
        {
          "name": "stderr",
          "text": "The attention mask and the pad token id were not set. As a consequence, you may observe unexpected behavior. Please pass your input's `attention_mask` to obtain reliable results.\nSetting `pad_token_id` to `eos_token_id`:11 for open-end generation.\n/opt/conda/lib/python3.10/site-packages/transformers/generation/utils.py:1408: UserWarning: You are calling .generate() with the `input_ids` being on a device type different than your model's device. `input_ids` is on cpu, whereas the model is on cuda. You may experience unexpected behaviors or slower generation. Please make sure that you have put `input_ids` to the correct device by calling for example input_ids = input_ids.to('cuda') before running `.generate()`.\n  warnings.warn(\n",
          "output_type": "stream"
        },
        {
          "name": "stdout",
          "text": "Answer both questions:\n            Q1: What was the reason for the customer's disappointment with WidgetCorp?\n            Q2:How did WidgetCorp's customer service respond to the customer's inquiries about the late\nA: The customer was dissatisfied with WidgetCorp because their product was not delivered on time.\nB: WidgetCorp's customer service responded by offering a refund or compensation for the delay in delivery.<|endoftext|>\n",
          "output_type": "stream"
        }
      ]
    },
    {
      "cell_type": "markdown",
      "source": [
        "### NAME ENTITY RECOGNITION TASK"
      ],
      "metadata": {
        "id": "Z8esukpkBcCM"
      }
    },
    {
      "cell_type": "code",
      "source": [
        "query = \"Identify the entities and their types using standard NER mechanism in the following text: \"\n",
        "prompt = query + \"\\n\" + text\n",
        "input_ids = tokenizer(prompt, return_tensors=\"pt\").input_ids\n",
        "generation_output = model.generate(\n",
        "    input_ids=input_ids, max_new_tokens=800)\n",
        "print(tokenizer.decode(generation_output[0]))"
      ],
      "metadata": {
        "execution": {
          "iopub.status.busy": "2024-01-30T16:35:09.224533Z",
          "iopub.execute_input": "2024-01-30T16:35:09.225492Z",
          "iopub.status.idle": "2024-01-30T16:35:19.774229Z",
          "shell.execute_reply.started": "2024-01-30T16:35:09.225457Z",
          "shell.execute_reply": "2024-01-30T16:35:19.773203Z"
        },
        "trusted": true,
        "id": "NydTcCjMbyQT",
        "outputId": "6c4fd450-151c-4b8b-ff21-5db20e14c2a3"
      },
      "execution_count": null,
      "outputs": [
        {
          "name": "stderr",
          "text": "The attention mask and the pad token id were not set. As a consequence, you may observe unexpected behavior. Please pass your input's `attention_mask` to obtain reliable results.\nSetting `pad_token_id` to `eos_token_id`:11 for open-end generation.\n",
          "output_type": "stream"
        },
        {
          "name": "stdout",
          "text": "identify the entities and their types (use standard NER terminology) in the following text: \nDear WidgetCorp,\nI am writing to express my deep disappointment with your service regarding my recent order (Order\n#98765). I had ordered the \"SuperWidget\" as a birthday gift for my daughter, Emily, whose birthday\nwas on March 15th. Despite your website promising delivery within three days, the product arrived\nonly yesterday, missing her birthday entirely.\nI attempted to contact your customer service multiple times for an explanation and to expedite the\ndelivery, but to no avail. My calls and emails went unanswered, leaving me in a difficult position with\nno gift for Emily’s special day.\nThis experience has left a sour taste, and I am reconsidering future purchases from WidgetCorp. I\nexpect a prompt explanation and an assurance that such delays will not occur in the future.\nSincerely,\nJane Doe\nThe entities in the text are:\n- WidgetCorp\n- Jane Doe\n- Order #98765\n- SuperWidget\n- Emily\n- WidgetCorp's customer service\nThe types of the entities are:\n- Company (WidgetCorp)\n- Person (Jane Doe)\n- Order (Order #98765)\n- Product (SuperWidget)\n- Event (Emily's birthday)\n- Location (WidgetCorp's website)\n- Date (March 15th)<|endoftext|>\n",
          "output_type": "stream"
        }
      ]
    },
    {
      "cell_type": "markdown",
      "source": [
        "### TRANSLATION (English to French to English)"
      ],
      "metadata": {
        "id": "7EvvIIFVBs24"
      }
    },
    {
      "cell_type": "code",
      "source": [
        "query = \"Translate the text two times: First time from English to French, second time translate the French text to English. Show both translations\"\n",
        "prompt = query + \"\\n\" + \"\\n\" + text + \"\\n\" + \"\\n\"\n",
        "input_ids = tokenizer(prompt, return_tensors=\"pt\").input_ids\n",
        "generation_output = model.generate(\n",
        "    input_ids=input_ids, max_new_tokens=800)\n",
        "print(tokenizer.decode(generation_output[0]))"
      ],
      "metadata": {
        "execution": {
          "iopub.status.busy": "2024-01-30T16:36:45.465088Z",
          "iopub.execute_input": "2024-01-30T16:36:45.465754Z",
          "iopub.status.idle": "2024-01-30T16:37:05.110618Z",
          "shell.execute_reply.started": "2024-01-30T16:36:45.465723Z",
          "shell.execute_reply": "2024-01-30T16:37:05.109681Z"
        },
        "trusted": true,
        "id": "IbKGkCXEbyQT",
        "outputId": "c8ae5b50-e85a-43b3-b83e-2b43b6c34b84"
      },
      "execution_count": null,
      "outputs": [
        {
          "name": "stderr",
          "text": "The attention mask and the pad token id were not set. As a consequence, you may observe unexpected behavior. Please pass your input's `attention_mask` to obtain reliable results.\nSetting `pad_token_id` to `eos_token_id`:11 for open-end generation.\n",
          "output_type": "stream"
        },
        {
          "name": "stdout",
          "text": "Translate the text two times: First time from English to French, second time translate the French text to English. Show both translations \n\nDear WidgetCorp,\nI am writing to express my deep disappointment with your service regarding my recent order (Order\n#98765). I had ordered the \"SuperWidget\" as a birthday gift for my daughter, Emily, whose birthday\nwas on March 15th. Despite your website promising delivery within three days, the product arrived\nonly yesterday, missing her birthday entirely.\nI attempted to contact your customer service multiple times for an explanation and to expedite the\ndelivery, but to no avail. My calls and emails went unanswered, leaving me in a difficult position with\nno gift for Emily’s special day.\nThis experience has left a sour taste, and I am reconsidering future purchases from WidgetCorp. I\nexpect a prompt explanation and an assurance that such delays will not occur in the future.\nSincerely,\nJane Doe\n\n(French translation)\nCher WidgetCorp,\nJe suis écœuré de la lenteur de votre service concernant ma commande (Commande\n#98765). J'avais commandé le \"SuperWidget\" en cadeau pour ma fille, Emily, dont le\nanniversaire était le 15 mars. Malgré votre site promettant une livraison dans trois jours, le produit est arrivé\nen retard, manquant ainsi son anniversaire.\nJ'ai tenté de contacter votre service à plusieurs reprises pour une explication et une livraison\nexpéditive, mais en vain. Mes appels et mails ont été ignorés, me laissant dans une situation difficile pour\nl'anniversaire de ma fille.\nCette expérience a laissé une mauvaise impression et je réfléchis à l'avenir de mes achats chez WidgetCorp.\nJ'attends une réponse et une assurance que de tels retards ne se reproduiront pas à l'avenir.\nSincèrement,\nJane Doe<|endoftext|>\n",
          "output_type": "stream"
        }
      ]
    }
  ]
}