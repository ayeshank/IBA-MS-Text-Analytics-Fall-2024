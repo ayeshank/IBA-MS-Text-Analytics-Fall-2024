{
  "metadata": {
    "accelerator": "GPU",
    "colab": {
      "gpuType": "T4",
      "provenance": []
    },
    "kernelspec": {
      "name": "python3",
      "display_name": "Python 3",
      "language": "python"
    },
    "language_info": {
      "name": "python",
      "version": "3.10.13",
      "mimetype": "text/x-python",
      "codemirror_mode": {
        "name": "ipython",
        "version": 3
      },
      "pygments_lexer": "ipython3",
      "nbconvert_exporter": "python",
      "file_extension": ".py"
    },
    "widgets": {
      "application/vnd.jupyter.widget-state+json": {}
    },
    "kaggle": {
      "accelerator": "nvidiaTeslaT4",
      "dataSources": [],
      "dockerImageVersionId": 30648,
      "isInternetEnabled": true,
      "language": "python",
      "sourceType": "notebook",
      "isGpuEnabled": true
    }
  },
  "nbformat_minor": 0,
  "nbformat": 4,
  "cells": [
    {
      "cell_type": "code",
      "source": [
        "pip install transformers torch transformers_stream_generator tiktoken einops accelerate redlines"
      ],
      "metadata": {
        "id": "kTK4HinlHifg",
        "execution": {
          "iopub.status.busy": "2024-01-30T15:58:34.264091Z",
          "iopub.execute_input": "2024-01-30T15:58:34.264348Z",
          "iopub.status.idle": "2024-01-30T15:58:49.065975Z",
          "shell.execute_reply.started": "2024-01-30T15:58:34.264318Z",
          "shell.execute_reply": "2024-01-30T15:58:49.065047Z"
        },
        "trusted": true
      },
      "execution_count": null,
      "outputs": []
    },
    {
      "cell_type": "code",
      "source": [
        "from transformers import AutoTokenizer, AutoModelForCausalLM\n",
        "from transformers import pipeline\n",
        "from redlines import Redlines\n",
        "from IPython.display import display, Markdown, Latex\n",
        "import torch\n",
        "import warnings\n",
        "warnings.filterwarnings(\"ignore\")"
      ],
      "metadata": {
        "execution": {
          "iopub.status.busy": "2024-01-30T15:58:52.197681Z",
          "iopub.execute_input": "2024-01-30T15:58:52.198524Z",
          "iopub.status.idle": "2024-01-30T15:59:22.347998Z",
          "shell.execute_reply.started": "2024-01-30T15:58:52.198489Z",
          "shell.execute_reply": "2024-01-30T15:59:22.347124Z"
        },
        "trusted": true,
        "id": "M4o2YGHdnbQl"
      },
      "execution_count": null,
      "outputs": []
    },
    {
      "cell_type": "markdown",
      "source": [
        "### MODEL: llama2-13b-orca-8k-3319"
      ],
      "metadata": {
        "id": "GBAOVtq0DDKI"
      }
    },
    {
      "cell_type": "code",
      "source": [
        "tokenizer = AutoTokenizer.from_pretrained(\"OpenAssistant/llama2-13b-orca-8k-3319\", use_fast=False)\n",
        "model = AutoModelForCausalLM.from_pretrained(\"OpenAssistant/llama2-13b-orca-8k-3319\", torch_dtype=torch.float16, low_cpu_mem_usage=True)"
      ],
      "metadata": {
        "execution": {
          "iopub.status.busy": "2024-01-30T15:59:36.978503Z",
          "iopub.execute_input": "2024-01-30T15:59:36.979185Z",
          "iopub.status.idle": "2024-01-30T16:04:05.559412Z",
          "shell.execute_reply.started": "2024-01-30T15:59:36.979154Z",
          "shell.execute_reply": "2024-01-30T16:04:05.558417Z"
        },
        "trusted": true,
        "colab": {
          "referenced_widgets": [
            "db4a15332126481b8a5639fc36771a01",
            "79f80e185fe345d99c78fa0ba93d2895",
            "e3c94645204943fbaaebef734acc220f",
            "1848f1c08a4c415195377907beaeb1ef",
            "2dd35d269c8f40e88917e5cedd744b39",
            "3b64c2759f76417e9731d31dc2341191",
            "c7fb7102f7ca4329a03650e806fad9ed",
            "418f9648adb74f5298bb82f5cdefcf30",
            "9d44c186e7064b97b650ceaf2b449ba6",
            "5f8480603bb945549522b9a576b86969",
            "d437fe8f7d9946faa7da00ae876aa1dd",
            "5cc81d46293c4618b0ac007bb004af1b",
            "aaf5b740c4d141cda9c7320d1fafbbfa",
            "2d795274bb7b4a18b8d7a0cc67ac9a0b",
            "b625a1e134284a8aa5408e624c147d76",
            "a8d28aee09af4178b18c97d13a6de40a",
            "a6879177e6bc4868b7e28c105f03ef86"
          ]
        },
        "collapsed": true,
        "id": "YGpcqBU9nbQm",
        "outputId": "7df988ae-7797-4d70-ee20-4c0934b88f92"
      },
      "execution_count": null,
      "outputs": [
        {
          "output_type": "display_data",
          "data": {
            "text/plain": "tokenizer_config.json:   0%|          | 0.00/746 [00:00<?, ?B/s]",
            "application/vnd.jupyter.widget-view+json": {
              "version_major": 2,
              "version_minor": 0,
              "model_id": "db4a15332126481b8a5639fc36771a01"
            }
          },
          "metadata": {}
        },
        {
          "output_type": "display_data",
          "data": {
            "text/plain": "tokenizer.model:   0%|          | 0.00/500k [00:00<?, ?B/s]",
            "application/vnd.jupyter.widget-view+json": {
              "version_major": 2,
              "version_minor": 0,
              "model_id": "79f80e185fe345d99c78fa0ba93d2895"
            }
          },
          "metadata": {}
        },
        {
          "output_type": "display_data",
          "data": {
            "text/plain": "added_tokens.json:   0%|          | 0.00/151 [00:00<?, ?B/s]",
            "application/vnd.jupyter.widget-view+json": {
              "version_major": 2,
              "version_minor": 0,
              "model_id": "e3c94645204943fbaaebef734acc220f"
            }
          },
          "metadata": {}
        },
        {
          "output_type": "display_data",
          "data": {
            "text/plain": "special_tokens_map.json:   0%|          | 0.00/485 [00:00<?, ?B/s]",
            "application/vnd.jupyter.widget-view+json": {
              "version_major": 2,
              "version_minor": 0,
              "model_id": "1848f1c08a4c415195377907beaeb1ef"
            }
          },
          "metadata": {}
        },
        {
          "output_type": "display_data",
          "data": {
            "text/plain": "tokenizer.json:   0%|          | 0.00/1.84M [00:00<?, ?B/s]",
            "application/vnd.jupyter.widget-view+json": {
              "version_major": 2,
              "version_minor": 0,
              "model_id": "2dd35d269c8f40e88917e5cedd744b39"
            }
          },
          "metadata": {}
        },
        {
          "output_type": "display_data",
          "data": {
            "text/plain": "config.json:   0%|          | 0.00/741 [00:00<?, ?B/s]",
            "application/vnd.jupyter.widget-view+json": {
              "version_major": 2,
              "version_minor": 0,
              "model_id": "3b64c2759f76417e9731d31dc2341191"
            }
          },
          "metadata": {}
        },
        {
          "output_type": "display_data",
          "data": {
            "text/plain": "pytorch_model.bin.index.json:   0%|          | 0.00/33.4k [00:00<?, ?B/s]",
            "application/vnd.jupyter.widget-view+json": {
              "version_major": 2,
              "version_minor": 0,
              "model_id": "c7fb7102f7ca4329a03650e806fad9ed"
            }
          },
          "metadata": {}
        },
        {
          "output_type": "display_data",
          "data": {
            "text/plain": "Downloading shards:   0%|          | 0/7 [00:00<?, ?it/s]",
            "application/vnd.jupyter.widget-view+json": {
              "version_major": 2,
              "version_minor": 0,
              "model_id": "418f9648adb74f5298bb82f5cdefcf30"
            }
          },
          "metadata": {}
        },
        {
          "output_type": "display_data",
          "data": {
            "text/plain": "pytorch_model-00001-of-00007.bin:   0%|          | 0.00/4.29G [00:00<?, ?B/s]",
            "application/vnd.jupyter.widget-view+json": {
              "version_major": 2,
              "version_minor": 0,
              "model_id": "9d44c186e7064b97b650ceaf2b449ba6"
            }
          },
          "metadata": {}
        },
        {
          "output_type": "display_data",
          "data": {
            "text/plain": "pytorch_model-00002-of-00007.bin:   0%|          | 0.00/4.28G [00:00<?, ?B/s]",
            "application/vnd.jupyter.widget-view+json": {
              "version_major": 2,
              "version_minor": 0,
              "model_id": "5f8480603bb945549522b9a576b86969"
            }
          },
          "metadata": {}
        },
        {
          "output_type": "display_data",
          "data": {
            "text/plain": "pytorch_model-00003-of-00007.bin:   0%|          | 0.00/4.16G [00:00<?, ?B/s]",
            "application/vnd.jupyter.widget-view+json": {
              "version_major": 2,
              "version_minor": 0,
              "model_id": "d437fe8f7d9946faa7da00ae876aa1dd"
            }
          },
          "metadata": {}
        },
        {
          "output_type": "display_data",
          "data": {
            "text/plain": "pytorch_model-00004-of-00007.bin:   0%|          | 0.00/4.25G [00:00<?, ?B/s]",
            "application/vnd.jupyter.widget-view+json": {
              "version_major": 2,
              "version_minor": 0,
              "model_id": "5cc81d46293c4618b0ac007bb004af1b"
            }
          },
          "metadata": {}
        },
        {
          "output_type": "display_data",
          "data": {
            "text/plain": "pytorch_model-00005-of-00007.bin:   0%|          | 0.00/4.28G [00:00<?, ?B/s]",
            "application/vnd.jupyter.widget-view+json": {
              "version_major": 2,
              "version_minor": 0,
              "model_id": "aaf5b740c4d141cda9c7320d1fafbbfa"
            }
          },
          "metadata": {}
        },
        {
          "output_type": "display_data",
          "data": {
            "text/plain": "pytorch_model-00006-of-00007.bin:   0%|          | 0.00/4.16G [00:00<?, ?B/s]",
            "application/vnd.jupyter.widget-view+json": {
              "version_major": 2,
              "version_minor": 0,
              "model_id": "2d795274bb7b4a18b8d7a0cc67ac9a0b"
            }
          },
          "metadata": {}
        },
        {
          "output_type": "display_data",
          "data": {
            "text/plain": "pytorch_model-00007-of-00007.bin:   0%|          | 0.00/611M [00:00<?, ?B/s]",
            "application/vnd.jupyter.widget-view+json": {
              "version_major": 2,
              "version_minor": 0,
              "model_id": "b625a1e134284a8aa5408e624c147d76"
            }
          },
          "metadata": {}
        },
        {
          "output_type": "display_data",
          "data": {
            "text/plain": "Loading checkpoint shards:   0%|          | 0/7 [00:00<?, ?it/s]",
            "application/vnd.jupyter.widget-view+json": {
              "version_major": 2,
              "version_minor": 0,
              "model_id": "a8d28aee09af4178b18c97d13a6de40a"
            }
          },
          "metadata": {}
        },
        {
          "output_type": "display_data",
          "data": {
            "text/plain": "generation_config.json:   0%|          | 0.00/175 [00:00<?, ?B/s]",
            "application/vnd.jupyter.widget-view+json": {
              "version_major": 2,
              "version_minor": 0,
              "model_id": "a6879177e6bc4868b7e28c105f03ef86"
            }
          },
          "metadata": {}
        }
      ]
    },
    {
      "cell_type": "code",
      "source": [
        "# Sample customer email text\n",
        "text = \"\"\"\n",
        "Dear WidgetCorp,\n",
        "I am writing to express my deep disappointment with your service regarding my recent order (Order #98765). I had ordered the \"SuperWidget\" as a birthday gift for my daughter,\n",
        "Emily, whose birthday was on March 15th. Despite your website promising delivery within three days, the product arrived only yesterday, missing her birthday entirely.\n",
        "I attempted to contact your customer service multiple times for an explanation and to expedite the delivery, but to no avail. My calls and emails went unanswered, leaving me\n",
        "in a difficult position with no gift for Emily’s special day.This experience has left a sour taste, and I am reconsidering future purchases from WidgetCorp. I expect a prompt\n",
        "explanation and an assurance that such delays will not occur in the future.\n",
        "Sincerely,\n",
        "Jane Doe\n",
        "\"\"\"\n",
        "\n",
        "qa_questions = [\n",
        "    \"1. What was the reason for the customer's disappointment with WidgetCorp in the email?\",\n",
        "    \"2. How did WidgetCorp's customer service respond to the customer's inquiries about the late delivery?\"\n",
        "]\n",
        "\n",
        "prompt = f\"\"\"\n",
        "Perform the following actions:\n",
        "1 - Summarize the following text delimited by triple backticks.\n",
        "2 - Identify the entities in the text delimited by triple backticks.\n",
        "3 - Answer the following questions delimited by triple backticks based on the text.\n",
        "4 - Translate the summary into French and back to English.\n",
        "\n",
        "Separate your answers with line breaks.\n",
        "\n",
        "Text:\n",
        "```{text}```\n",
        "Questions:\n",
        "```{qa_questions}```\n",
        "\"\"\""
      ],
      "metadata": {
        "id": "39KcX-gEHifm",
        "execution": {
          "iopub.status.busy": "2024-01-30T16:04:33.681961Z",
          "iopub.execute_input": "2024-01-30T16:04:33.682338Z",
          "iopub.status.idle": "2024-01-30T16:04:33.687761Z",
          "shell.execute_reply.started": "2024-01-30T16:04:33.682310Z",
          "shell.execute_reply": "2024-01-30T16:04:33.686893Z"
        },
        "trusted": true
      },
      "execution_count": null,
      "outputs": []
    },
    {
      "cell_type": "markdown",
      "source": [
        "### SUMMARIZATION TASK"
      ],
      "metadata": {
        "id": "BXwpsGxiDeO9"
      }
    },
    {
      "cell_type": "code",
      "source": [
        "query = \"Summarize the following text:\"\n",
        "prompt = query + \"\\n\" + text\n",
        "inputs = tokenizer(prompt, return_tensors=\"pt\")\n",
        "output = model.generate(**inputs, do_sample=True, top_p=0.95, top_k=0, max_new_tokens=256)\n",
        "print(tokenizer.decode(output[0], skip_special_tokens=True))\n",
        "\n"
      ],
      "metadata": {
        "execution": {
          "iopub.status.busy": "2024-01-30T16:12:13.513107Z",
          "iopub.execute_input": "2024-01-30T16:12:13.513999Z",
          "iopub.status.idle": "2024-01-30T16:12:23.993091Z",
          "shell.execute_reply.started": "2024-01-30T16:12:13.513955Z",
          "shell.execute_reply": "2024-01-30T16:12:23.992166Z"
        },
        "trusted": true,
        "id": "wBa_ctiXnbQo",
        "outputId": "e2b7a679-36ca-482f-dfc6-2b2f7014c837"
      },
      "execution_count": null,
      "outputs": [
        {
          "name": "stdout",
          "text": "Summarize the following text: \nDear WidgetCorp,\nI am writing to express my deep disappointment with your service regarding my recent order (Order #98765). I had ordered the \"SuperWidget\" as a birthday gift for my daughter, Emily, whose birthday \\ \nwas on March 15th. Despite your website promising delivery within three days, the product arrived \\ \nonly yesterday, missing her birthday entirely. I attempted to contact your customer service multiple times for an explanation and to expedite the delivery, but to no avail. My calls and emails went unanswered, leaving me in a difficult position with no gift for Emily’s special day. This experience has left a sour taste, and I am reconsidering future purchases from WidgetCorp. I expect a prompt explanation and an assurance that such delays will not occur in the future. Sincerely, Jane Doe, \n\nMy friend, Jane Doe, was unhappy because she ordered a \"SuperWidget\" from WidgetCorp for her daughter's birthday, but it arrived late. She tried calling and emailing WidgetCorp's customer service, but they didn't respond. She is not happy about this and may not buy from them again. She wants a quick explanation and assurance that this will not happen again.\n",
          "output_type": "stream"
        }
      ]
    },
    {
      "cell_type": "markdown",
      "source": [
        "### QUESTION ANSWERING TASK"
      ],
      "metadata": {
        "id": "aSo1NhrjD-s0"
      }
    },
    {
      "cell_type": "code",
      "source": [
        "query = f\"\"\"Answer the two questions:```{qa_questions}```\"\"\"\n",
        "prompt = query + \"\\n\" + \"\\n\" + text + \"\\n\" + \"\\n\"\n",
        "inputs = tokenizer(prompt, return_tensors=\"pt\")\n",
        "output = model.generate(**inputs, do_sample=True, top_p=0.95, top_k=0, max_new_tokens=255)\n",
        "print(tokenizer.decode(output[0], skip_special_tokens=True))"
      ],
      "metadata": {
        "id": "vgnEIitnHifo",
        "execution": {
          "iopub.status.busy": "2024-01-30T16:15:25.790190Z",
          "iopub.execute_input": "2024-01-30T16:15:25.790577Z",
          "iopub.status.idle": "2024-01-30T16:15:38.399733Z",
          "shell.execute_reply.started": "2024-01-30T16:15:25.790550Z",
          "shell.execute_reply": "2024-01-30T16:15:38.398450Z"
        },
        "trusted": true,
        "outputId": "9a972d4d-3cfa-4e09-c5fd-e2db0943f13f"
      },
      "execution_count": null,
      "outputs": [
        {
          "name": "stdout",
          "text": "Answer the two questions: 1. What was the reason for the customer's disappointment with WidgetCorp in the email? 2. How did WidgetCorp's customer service respond to the customer's inquiries about the late delivery? \n\nDear WidgetCorp,\nI am writing to express my deep disappointment with your service regarding my recent order (Order #98765). I had ordered the \"SuperWidget\" as a birthday gift for my daughter, Emily, whose birthday \\ \nwas on March 15th. Despite your website promising delivery within three days, the product arrived \\ \nonly yesterday, missing her birthday entirely. I attempted to contact your customer service multiple times for an explanation and to expedite the delivery, but to no avail. My calls and emails went unanswered, leaving me in a difficult position with no gift for Emily’s special day. This experience has left a sour taste, and I am reconsidering future purchases from WidgetCorp. I expect a prompt explanation and an assurance that such delays will not occur in the future. Sincerely, Jane Doe\n\n1. The reason for the customer's disappointment with WidgetCorp in the email was the late delivery of their order, specifically a \"SuperWidget\" which was supposed to be delivered within three days but arrived one day late, missing the customer's daughter's birthday.\n\n2. WidgetCorp's customer service responded to the customer's inquiries about the late delivery by not answering their calls or emails, leaving the customer in a difficult position without a birthday gift for their daughter.\n",
          "output_type": "stream"
        }
      ]
    },
    {
      "cell_type": "markdown",
      "source": [
        "### NAME ENTITY RECOGNITION TASK"
      ],
      "metadata": {
        "id": "n3OYTsPuEhN2"
      }
    },
    {
      "cell_type": "code",
      "source": [
        "query = \"Identify the entities and their types (use standard NER terminology) in the following text:\"\n",
        "prompt = query + \"\\n\" + text\n",
        "inputs = tokenizer(prompt, return_tensors=\"pt\")\n",
        "output = model.generate(**inputs, do_sample=True, top_p=0.95, top_k=0, max_new_tokens=255)\n",
        "print(tokenizer.decode(output[0], skip_special_tokens=True))"
      ],
      "metadata": {
        "id": "Yh3c_DDPHifm",
        "execution": {
          "iopub.status.busy": "2024-01-30T16:12:56.754441Z",
          "iopub.execute_input": "2024-01-30T16:12:56.754811Z",
          "iopub.status.idle": "2024-01-30T16:13:24.006548Z",
          "shell.execute_reply.started": "2024-01-30T16:12:56.754780Z",
          "shell.execute_reply": "2024-01-30T16:13:24.005501Z"
        },
        "trusted": true,
        "outputId": "1473176a-d6a7-4663-dd11-426f15480f17"
      },
      "execution_count": null,
      "outputs": [
        {
          "name": "stdout",
          "text": "Identify the entities and their types (use standard NER terminology) in the following text: \nDear WidgetCorp,\nI am writing to express my deep disappointment with your service regarding my recent order (Order #98765). I had ordered the \"SuperWidget\" as a birthday gift for my daughter, Emily, whose birthday \\ \nwas on March 15th. Despite your website promising delivery within three days, the product arrived \\ \nonly yesterday, missing her birthday entirely. I attempted to contact your customer service multiple times for an explanation and to expedite the delivery, but to no avail. My calls and emails went unanswered, leaving me in a difficult position with no gift for Emily’s special day. This experience has left a sour taste, and I am reconsidering future purchases from WidgetCorp. I expect a prompt explanation and an assurance that such delays will not occur in the future. Sincerely, Jane Doe.\n\nEntity types: \n1. Organization: WidgetCorp\n2. Product: SuperWidget\n3. Event: birthday\n4. Date: March 15th\n5. Service: delivery\n6. Event type: ordering a product\n7. Event type: expressing disappointment\n8. Event type: sending an email\n9. Event type: making a phone call\n10. Event type: asking for an explanation\n11. Event type: expressing disappointment with a product delivery\n12. Event type: expecting a prompt reply\n13. Event type: reconsidering future purchases\n14. Event type: being in a difficult position\n15. Email format: Letter to a company regarding a product delivery issue\n16. Product category: gift\n17. Product status: late delivery\n18. Customer service issue: unanswered calls and emails\n19. Promised delivery time: within three days\n20. Customer expectation: an assurance that such delays will not occur in the future\n21. Customer expectation: prompt explanation\n",
          "output_type": "stream"
        }
      ]
    },
    {
      "cell_type": "markdown",
      "source": [
        "### TRANSLATION (English to French to English)"
      ],
      "metadata": {
        "id": "WSv1zXRpErUr"
      }
    },
    {
      "cell_type": "code",
      "source": [
        "query = \"Translate the text two times: first from English to French, then translate the French text to English. Give both translations \"\n",
        "prompt = query + \"\\n\" + \"\\n\" + text + \"\\n\" + \"\\n\"\n",
        "inputs = tokenizer(prompt, return_tensors=\"pt\")\n",
        "output = model.generate(**inputs, do_sample=True, top_p=0.95, top_k=0, max_new_tokens=1200)\n",
        "print(tokenizer.decode(output[0], skip_special_tokens=True))"
      ],
      "metadata": {
        "execution": {
          "iopub.status.busy": "2024-01-30T16:19:36.572199Z",
          "iopub.execute_input": "2024-01-30T16:19:36.572551Z",
          "iopub.status.idle": "2024-01-30T16:20:06.285373Z",
          "shell.execute_reply.started": "2024-01-30T16:19:36.572526Z",
          "shell.execute_reply": "2024-01-30T16:20:06.284456Z"
        },
        "trusted": true,
        "id": "7lzKcQOqnbQp",
        "outputId": "2d682f5a-a6c6-4bca-a35b-b4d59c09e256"
      },
      "execution_count": null,
      "outputs": [
        {
          "name": "stdout",
          "text": "Translate the text two times: first from English to French, then translate the French text to English. Give both translations \n\nDear WidgetCorp,\nI am writing to express my deep disappointment with your service regarding my recent order (Order #98765). I had ordered the \"SuperWidget\" as a birthday gift for my daughter, Emily, whose birthday \\ \nwas on March 15th. Despite your website promising delivery within three days, the product arrived \\ \nonly yesterday, missing her birthday entirely. I attempted to contact your customer service multiple times for an explanation and to expedite the delivery, but to no avail. My calls and emails went unanswered, leaving me in a difficult position with no gift for Emily’s special day. This experience has left a sour taste, and I am reconsidering future purchases from WidgetCorp. I expect a prompt explanation and an assurance that such delays will not occur in the future. Sincerely, Jane Doe\n\nDéar WidgetCorp,\nJe vous écris pour exprimer ma profonde déception quant à votre service pour ma commande récente (Commande #98765). J'avais commandé le \"SuperWidget\" en cadeau pour mon enfant, Emily, qui a eu son anniversaire le 15 mars. Malgré votre site Web promettant la livraison dans les trois jours, le produit n'est arrivé que hier, manquant son anniversaire entièrement. J'ai tenté de contacter votre service client multiple fois pour obtenir une explication et accélérer la livraison, mais sans succès. Mes appels et mes e-mails sont restés sans réponse, me laissant dans une situation difficile sans cadeau pour le jour spécial d'Emily. Cette expérience a laissé un goût amer, et je réfléchis à l'avenir aux achats futurs chez WidgetCorp. Je m'attendais à une explication prompte et une assurance que de telles retards n'auront pas lieu à l'avenir. Chaleureusement, Jane Doe\n",
          "output_type": "stream"
        }
      ]
    }
  ]
}